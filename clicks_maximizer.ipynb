{
 "cells": [
  {
   "cell_type": "markdown",
   "id": "dbca74df",
   "metadata": {},
   "source": [
    "# Clicks Maximizer\n",
    "\n",
    "This is a working version of the clicks-maximizer. It loads and prepares the auction dataset, tunes functions $f(\\text{bid},X) = \\mathbb{E}[\\text{impressions}|\\text{bid},X]$ and $g(\\text{impressions},X) = \\mathbb{E}[\\text{clicks}|\\text{impressions},X],$ and then applies constrained maximization to arrive at the clicks-maximizing vector of bids.\n",
    "\n",
    "At the end there are a few graphs showing some basic findings about the resulting bid vector. \n",
    "\n",
    "For more information about how the clicks-maximizer works, see the document \"Maximing Clicks\". \n",
    "\n",
    "Warning: In case of error \"cannot set WRITEABLE flag to True of this array\", uninstall the scikit-sparse package. \n",
    "\n",
    "Author: Martin Wiegand\n",
    "\n",
    "Last changed: 29.04.2022"
   ]
  },
  {
   "cell_type": "code",
   "execution_count": 1,
   "id": "8fc86b4f",
   "metadata": {},
   "outputs": [],
   "source": [
    "# load packages\n",
    "import numpy as np\n",
    "import pandas as pd\n",
    "import matplotlib.pyplot as plt\n",
    "import seaborn as sns\n",
    "from pygam import LinearGAM, s\n",
    "from sklearn.linear_model import LinearRegression\n",
    "from scipy.optimize import curve_fit, minimize\n",
    "from scipy import interpolate\n",
    "from itertools import starmap\n",
    "from sklearn.model_selection import KFold, train_test_split"
   ]
  },
  {
   "cell_type": "markdown",
   "id": "9f7a274c",
   "metadata": {},
   "source": [
    "#### Define functions to load the data, estimate $f$ and $g$, and solve the optimization problem. "
   ]
  },
  {
   "cell_type": "code",
   "execution_count": 2,
   "id": "33bb7e92",
   "metadata": {},
   "outputs": [],
   "source": [
    "def load_dataset(folder: str) -> pd.DataFrame:\n",
    "    \"\"\"\n",
    "    Load auction dataset. Construct time-related features. Create identifiers for \n",
    "    each cluster of observations for which we assume a homogenous relationship\n",
    "    between bids and impressions, and impressions and clicks, respectively. \n",
    "    Remove clusters which have less than 2000 impressions. \n",
    "    Needs specification of the folder with the csv file \n",
    "    'test_param_performance_formatted.csv'.\n",
    "    \n",
    "    Parameters\n",
    "    ----------\n",
    "    folder: str\n",
    "\n",
    "    Returns\n",
    "    -------\n",
    "    DataFrame\n",
    "    \"\"\"\n",
    "    \n",
    "    # Load dataset\n",
    "    data = pd.read_csv(folder + \"test_param_performance_formatted.csv\")\n",
    "    # Consider only auctions, not actions \n",
    "    data = data.loc[data[\"impressions\"] > 0]\n",
    "    # Drop columns with zero variance; also drop \"booked_revenue_adv_curr\" (as it\n",
    "    # is redundant)\n",
    "    data = data.drop([\"advertiser_id\", \"insertion_order_id\", \"country\", \n",
    "                      \"region\", \"conversions_1433583\", \"conversions_1433581\", \n",
    "                      \"conversions_1433575\", \"booked_revenue_adv_curr\"], axis=1)\n",
    "    \n",
    "    # Some dummies to indicate various times of the day, as well as weekend\n",
    "    data[\"earlymorning\"] = ((data[\"hour_user_tz\"] >= 7) & (data[\"hour_user_tz\"] < 9)) * 1\n",
    "    data[\"latemorning\"] = ((data[\"hour_user_tz\"] >= 9) & (data[\"hour_user_tz\"] < 11)) * 1\n",
    "    data[\"noon\"] = ((data[\"hour_user_tz\"] >= 11) & (data[\"hour_user_tz\"] < 13)) * 1\n",
    "    data[\"afternoon\"] = ((data[\"hour_user_tz\"] >= 13) & (data[\"hour_user_tz\"] < 18)) * 1\n",
    "    data[\"evening\"] = ((data[\"hour_user_tz\"] >= 18) & (data[\"hour_user_tz\"] < 23)) * 1\n",
    "    data[\"earlynight\"] = ((data[\"hour_user_tz\"] == 23) | (data[\"hour_user_tz\"] < 3)) * 1    \n",
    "    data[\"latenight\"] = ((data[\"hour_user_tz\"] >= 3) & (data[\"hour_user_tz\"] < 7)) * 1    \n",
    "    data[\"weekend\"] = ((data[\"weekday_user_tz\"] == 0) | (data[\"weekday_user_tz\"] == 6)) * 1\n",
    "    \n",
    "    # Generate variables indicating the first two letters of the \n",
    "    # custom_model_leaf_name from dataset 1. This is mainly to identify \n",
    "    # retargeted customers in the end. \n",
    "    ba_list = [13917115, 13917143, 13917188, 13917210, 13917281, 13917317, \n",
    "               13917402, 14273478, 14345556, 14345602, 14351599, 14351600, \n",
    "               14351602, 14950582, 14951140]\n",
    "    RT_list = [13917415, 13917562, 13917595, 13917624, 13917701, 13917702, \n",
    "               13917703, 13917704, 13971302, 14004079, 14004080, 14004082]\n",
    "    bami_list = [13934058, 13935850, 14602750]\n",
    "    data[\"leaf_cat_2\"] = \"unknown\" # first 2 letters of leaf category\n",
    "    data.loc[data[\"line_item_id\"].isin(ba_list), \"leaf_cat_2\"] = \"ba\"\n",
    "    data.loc[data[\"line_item_id\"].isin(RT_list), \"leaf_cat_2\"] = \"RT\"\n",
    "    data.loc[data[\"line_item_id\"].isin(bami_list), \"leaf_cat_2\"] = \"bami\" # (first 2 letters either ba or mi)\n",
    "    data[\"RT\"] = (data[\"leaf_cat_2\"] == \"RT\") * 1\n",
    "    \n",
    "    # Create grouping by device type, line item, day, and time. These are the \n",
    "    # features for which we assume a homogenous relationship between bids and\n",
    "    # impressions (the function f). \n",
    "    id_list_f = [\"device_type\", \"line_item_id\", \"hour_user_tz\", \"weekday_user_tz\"]\n",
    "    data[\"id_f\"] = data.groupby(id_list_f).ngroup()\n",
    "    data[\"id_f\"].nunique()\n",
    "    \n",
    "    # Create grouping by device type, line item, and time of day and week. These \n",
    "    # are the features for which we assume a homogenous relationship between \n",
    "    # impressions and clicks (the function g). \n",
    "    id_list_g = [\"device_type\", \"RT\", \"earlymorning\", \"latemorning\", \"noon\", \n",
    "                 \"afternoon\", \"evening\", \"earlynight\", \"latenight\", \"weekend\"]\n",
    "    data[\"id_g\"] = data.groupby(id_list_g).ngroup()\n",
    "    data[\"id_g\"].nunique()\n",
    "    \n",
    "    # Create grouping by id_f and id_g. These are the combined categories for which\n",
    "    # we assume a homogenous relationship between bids and clicks (the function h).\n",
    "    id_list_h = [\"id_f\", \"id_g\"]\n",
    "    data[\"id_h\"] = data.groupby(id_list_h).ngroup()\n",
    "    data[\"id_h\"].nunique()\n",
    "    # Number of impressions per cluster, separately for function f and g\n",
    "    data[\"impnum_f\"] = (data[\"impressions\"]\n",
    "                        .groupby(data[\"id_f\"])\n",
    "                        .transform(np.sum)\n",
    "                        )\n",
    "    data[\"impnum_g\"] = (data[\"impressions\"]\n",
    "                        .groupby(data[\"id_g\"])\n",
    "                        .transform(np.sum)\n",
    "                        )\n",
    "    \n",
    "    # Getting rid of clusters with < \"cutoff\" impressions. This leads to a \n",
    "    # significant drop in observations, but a relatively small drop in total\n",
    "    # impressions and clicks (see printed statements below). \n",
    "    cutoff = 2000\n",
    "    obs_left = ((data[\"impnum_g\"] > cutoff) & (data[\"impnum_f\"] > cutoff)).sum()\n",
    "    imp_after_cut = data.loc[((data[\"impnum_g\"] >= cutoff) & (data[\"impnum_f\"] >= cutoff)), \"impressions\"].sum()\n",
    "    imp_total = data.loc[((data[\"impnum_g\"] >0) & (data[\"impnum_f\"] >0)), \"impressions\"].sum()\n",
    "    print(\"Share of impressions left after shaving obs with <\", cutoff, \"impressions: \", imp_after_cut/imp_total)\n",
    "    clicks_after_cut = data.loc[((data[\"impnum_g\"] >= cutoff) & (data[\"impnum_f\"] >= cutoff)), \"clicks\"].sum()\n",
    "    clickstotal = data.loc[((data[\"impnum_g\"] >0) & (data[\"impnum_f\"] >0)), \"clicks\"].sum()\n",
    "    print(\"Share of clicks left after shaving obs with <\", cutoff, \"impressions: \", clicks_after_cut/clickstotal)\n",
    "    data = data.drop(data[(data[\"impnum_g\"] < cutoff) | (data[\"impnum_f\"] < cutoff)].index)\n",
    "    \n",
    "    # Designate 99% of observations to training\n",
    "    data[\"train\"] = 0\n",
    "    data.loc[data.sample(frac=0.99, random_state=98765).index, \"train\"] = 1\n",
    "\n",
    "    return data\n",
    "\n",
    "def fit_Linear_GAM(impressions: np.array, bids: np.array) -> LinearGAM:\n",
    "    \"\"\"\n",
    "    Estimate relationship between bids and impressions (function f) as a spline \n",
    "    approximation with monotonicity and concavity constraints. If it does not \n",
    "    find an approximation, it increases the number of splines (eventually it \n",
    "    will converge). \n",
    "    \n",
    "    Parameters\n",
    "    ----------\n",
    "    impressions: array\n",
    "    bids: array\n",
    "\n",
    "    Returns\n",
    "    -------\n",
    "    LinearGAM object\n",
    "\n",
    "    \"\"\"\n",
    "    stop = 0\n",
    "    splines = 15\n",
    "    while stop == 0:\n",
    "        gam = (LinearGAM(s(0, constraints=['monotonic_inc', 'concave']), \n",
    "                         n_splines = splines, verbose = False)\n",
    "               .fit(bids, impressions))\n",
    "        if (list(gam.logs_.values())[1][-1] <= 0.0001) | (splines == 50):\n",
    "            stop = 1\n",
    "        else:\n",
    "            splines += 5\n",
    "    return gam\n",
    "\n",
    "def estimate_impressions_parameters_interp(impressions: np.array, bids: np.array) -> interpolate.interp1d:\n",
    "    \"\"\"\n",
    "    Estimate function f using the spline approximation specified in the\n",
    "    function fit_Linear_GAM(). Then approximate the resulting function by a \n",
    "    linear interpolation function. This is to accelerate the prediction steps\n",
    "    for the minimization procedure (the LinearGAM objects predict very slowly).\n",
    "    \n",
    "    Parameters\n",
    "    ----------\n",
    "    impressions: array\n",
    "    bids: array\n",
    "\n",
    "    Returns\n",
    "    -------\n",
    "    interpolate.interp1d object\n",
    "\n",
    "    \"\"\"\n",
    "    gam = fit_Linear_GAM(impressions, bids)\n",
    "    bids_range = np.array([0] + list(np.linspace(bids.min(), bids.max(), 100)) + [2*bids.max()]) \n",
    "    imp_gam = gam.predict(bids_range)\n",
    "    interpol = interpolate.interp1d(bids_range, imp_gam, bounds_error=False, \n",
    "                                    fill_value=\"extrapolate\")\n",
    "    return interpol\n",
    "\n",
    "def predict_gam_interpol(gam_interpol: pd.Series, bid_col: pd.Series) -> list:\n",
    "    \"\"\"\n",
    "    Make predictions of impressions based on a vector of bids and a \n",
    "    corresponding vector of prediction functions (the interpolate.interp1d \n",
    "    objects created by the function estimate_impressions_parameters_interp). \n",
    "    \n",
    "    Parameters\n",
    "    ----------\n",
    "    gam_interpol: Series of interpolate.interp1d objects\n",
    "    bid_col: Series of floats\n",
    "\n",
    "    Returns\n",
    "    -------\n",
    "    list\n",
    "\n",
    "    \"\"\"\n",
    "    f_pred = lambda interpol, bid: interpol(bid)\n",
    "    zipper = zip(gam_interpol, bid_col)\n",
    "    predictions = list(starmap(f_pred, zipper))\n",
    "    return predictions\n",
    "\n",
    "def estimate_clicks_parameters(clicks: np.array, impressions: np.array, model: LinearRegression) -> float:\n",
    "    \"\"\"\n",
    "    Make predictions of click-through rate based on a vector of impressions \n",
    "    and a vector of clicks. We estimate the slope parameter of a linear \n",
    "    regression through the origin, weighted by impressions. This is equivalent \n",
    "    to simply calculate the ctr for the sample, weighted by impressions. \n",
    "    \n",
    "    Parameters\n",
    "    ----------\n",
    "    clicks: array\n",
    "    impressions: array\n",
    "\n",
    "    Returns\n",
    "    -------\n",
    "    list\n",
    "\n",
    "    \"\"\"\n",
    "    weight = 1/impressions\n",
    "    model.fit(X = impressions, y = clicks, sample_weight=weight.reshape(-1))\n",
    "    slope = model.coef_[0]\n",
    "    return slope\n",
    "\n",
    "def make_bounds(data: pd.DataFrame) -> list:\n",
    "    \"\"\"\n",
    "    Make a list containing constraints for bids. We use as bounds the minimum \n",
    "    and maximum of the range of bid values observed within the respective id_f.\n",
    "    This is to avoid extrapolation of bids outside of the tested range. \n",
    "    Furthermore, bids are required to result in non-negative impressions. \n",
    "    \n",
    "    Parameters\n",
    "    ----------\n",
    "    data: DataFrame\n",
    "\n",
    "    Returns\n",
    "    -------\n",
    "    list\n",
    "\n",
    "    \"\"\"\n",
    "    bnds = []\n",
    "    for i in data[\"id_f\"].unique():\n",
    "        minimum = data.loc[data[\"id_f\"] == i, \"rpm\"].min() # tentative\n",
    "        maximum = data.loc[data[\"id_f\"] == i, \"rpm\"].max()\n",
    "        bid_range = np.linspace(minimum, maximum, 1000)\n",
    "        gam_predictor = [data.loc[data[\"id_f\"] == i, \"gam_interpol\"].iloc[0]]*1000\n",
    "        prediction_range = predict_gam_interpol(gam_predictor, bid_range)\n",
    "        closest_to_0 = abs(np.array(prediction_range)).argmin()\n",
    "        minimum = bid_range[closest_to_0]\n",
    "        num_bnds_h = data.loc[data[\"id_f\"] == i, \"id_g\"].nunique()\n",
    "        bnds += [(minimum, maximum)] * num_bnds_h\n",
    "    return bnds\n",
    "\n",
    "def callbackF(x: pd.Series):\n",
    "    ''' Callback function for scipy.optimize.minimize '''\n",
    "    global Nfeval\n",
    "    print ('{0:4d}    {1: 3.6f}'.format(Nfeval, Pi_fn(x)))\n",
    "    Nfeval += 1\n",
    "\n",
    "def optimize_bids(data: pd.DataFrame, n_partitions: int) -> tuple[pd.DataFrame, list, list]:\n",
    "    \"\"\"\n",
    "    This function takes in the dataset created by the 'load_dataset' function,\n",
    "    as well as a specified number of splits for which the optimization is \n",
    "    performed separately. The functions f and g (and thus also h) are then\n",
    "    estimated, constraints and bounds are defined, and the function of total\n",
    "    clicks is maximized (more precisely, its negative is minimized). The \n",
    "    outputs are a dataset containing the vector of optimal bids, 'bids_opti', \n",
    "    a vector containing the individual scipy.optimize.minimize objects for \n",
    "    each split, and a list with the corresponding shadow prices (the Lagrange\n",
    "    multipliers of the budget constraint). \n",
    "    \n",
    "    Parameters\n",
    "    ----------\n",
    "    data: DataFrame\n",
    "    n_partitions: int\n",
    "\n",
    "    Returns\n",
    "    -------\n",
    "    data, list, list\n",
    "\n",
    "    \"\"\"\n",
    "    data_train = data.loc[data[\"train\"] == 1]\n",
    "    \n",
    "    counter = 0\n",
    "    data[\"gam_interpol\"] = None\n",
    "    for i in data[\"id_f\"].unique():\n",
    "        # generate parameters of the impressions function\n",
    "        X = data_train.loc[(data_train[\"id_f\"] == i), \"rpm\"].to_numpy().reshape(-1,1)\n",
    "        y = data_train.loc[(data_train[\"id_f\"] == i), \"impressions\"].to_numpy().reshape(-1,1)\n",
    "        gam_interpol = estimate_impressions_parameters_interp(impressions=y, bids=X)\n",
    "        data.loc[(data[\"id_f\"] == i), \"gam_interpol\"] = gam_interpol\n",
    "        counter += 1\n",
    "        if counter%100==0:\n",
    "            print(counter)\n",
    "            \n",
    "    counter = 0\n",
    "    for i in data[\"id_g\"].unique():\n",
    "        # generate parameters of the clicks function\n",
    "        X = data_train.loc[data_train[\"id_g\"] == i, \"impressions\"].to_numpy().reshape(-1,1)\n",
    "        y = data_train.loc[data_train[\"id_g\"] == i, \"clicks\"].to_numpy()\n",
    "        model = LinearRegression(fit_intercept=False)\n",
    "        data.loc[data[\"id_g\"] == i, \"slope\"] = \\\n",
    "            estimate_clicks_parameters(clicks=y, impressions=X, model=model)\n",
    "        counter += 1\n",
    "        if counter%100==0:\n",
    "            print(counter)\n",
    "    del data_train\n",
    "    \n",
    "    # create \"data_grouped\", which contains one row for each value of id_h. \n",
    "    data = data.sort_values(by=[\"id_f\", \"id_g\"])\n",
    "    data_grouped = (data[[\"id_h\", \"rpm\", \"slope\"]]\n",
    "                     .groupby(data[\"id_h\"])\n",
    "                     .agg(\"mean\")\n",
    "                     )\n",
    "    data_grouped[\"gam_interpol\"] = (data[\"gam_interpol\"]\n",
    "                                    .groupby(data[\"id_h\"])\n",
    "                                    .first()\n",
    "                                    )\n",
    "    data_grouped[\"groupsize\"] = (data[\"id_h\"]\n",
    "                                 .groupby(data[\"id_h\"])\n",
    "                                 .agg(\"count\")\n",
    "                                 )\n",
    "    data_grouped[\"bids_opti\"] = None\n",
    "    \n",
    "    # To ease the computational burden of optimizing a function wrt a large bid\n",
    "    # vector, we split data into K folds and optimize for each fold individually. \n",
    "    K = n_partitions\n",
    "    kf = KFold(n_splits=K, random_state=12345, shuffle=True)\n",
    "    splitlist = []\n",
    "    for train_index, test_index in kf.split(data_grouped):\n",
    "        splitlist += [list(data_grouped[\"id_h\"].iloc[test_index])]\n",
    "    opti = []\n",
    "    shadowpricelist = []\n",
    "    for k in range(0,K):\n",
    "        data_k = data.loc[data[\"id_h\"].isin(splitlist[k])]\n",
    "        data_grouped_k = data_grouped.loc[data_grouped[\"id_h\"].isin(splitlist[k])]\n",
    "        slope = data_grouped_k[\"slope\"]\n",
    "        groupsize = data_grouped_k[\"groupsize\"]\n",
    "        # Define function Pi_fn, the total amount of clicks given bid vector x\n",
    "        global Pi_fn\n",
    "        Pi_fn = lambda x: - (slope*groupsize) @ predict_gam_interpol(data_grouped_k[\"gam_interpol\"], x)\n",
    "        # Define budget constraint\n",
    "        budget = data_k[\"booked_revenue\"].sum()\n",
    "        global b_constraint_fn\n",
    "        b_constraint_fn = lambda x: budget - ((groupsize*x) @ predict_gam_interpol(data_grouped_k[\"gam_interpol\"], x))/1000.\n",
    "        b_constraint = {'type': 'eq', 'fun': b_constraint_fn}\n",
    "        bnds = make_bounds(data_k)\n",
    "        initial_bids = data_grouped_k[\"rpm\"]   \n",
    "        global Nfeval\n",
    "        Nfeval = 0\n",
    "        opti_k = minimize(Pi_fn, initial_bids, bounds = bnds, constraints = b_constraint, \n",
    "                          options = {'maxiter': 1000, 'ftol': 1e-01}, callback=callbackF, tol=0.1)\n",
    "        opti += [opti_k]\n",
    "        shadowprice = minimize(Pi_fn, opti_k.x, bounds = bnds, \n",
    "                               constraints = b_constraint, \n",
    "                               options = {'maxiter': 1}, \n",
    "                               method=\"trust-constr\").v[0]\n",
    "        shadowpricelist += list(shadowprice)\n",
    "        data_grouped_k[\"bids_opti\"] = opti_k.x\n",
    "        data_grouped.update(data_grouped_k)\n",
    "        print(\"Round\", k+1, \"complete.\")\n",
    "        \n",
    "    data_grouped = data_grouped.reset_index(drop=True)\n",
    "    data = pd.merge(left = data, right = data_grouped[[\"id_h\", \"bids_opti\"]], \n",
    "                    how = \"left\", on = \"id_h\")\n",
    "    data = data.sort_index() # undo prior sorting\n",
    "    \n",
    "    return data, opti, shadowpricelist"
   ]
  },
  {
   "cell_type": "markdown",
   "id": "33f0395b",
   "metadata": {},
   "source": [
    "#### Load the dataset and run! \n",
    "\n",
    "On my computer this takes about 2 hours with 40 partitions."
   ]
  },
  {
   "cell_type": "code",
   "execution_count": 5,
   "id": "75da91d1",
   "metadata": {},
   "outputs": [
    {
     "name": "stderr",
     "output_type": "stream",
     "text": [
      "/tmp/ipykernel_6933/2852761958.py:10: DtypeWarning: Columns (10) have mixed types. Specify dtype option on import or set low_memory=False.\n",
      "  data = pd.read_csv(folder + \"test_param_performance_formatted.csv\")\n"
     ]
    },
    {
     "name": "stdout",
     "output_type": "stream",
     "text": [
      "Share of impressions left after shaving obs with < 2000 impressions:  0.9858620507542987\n",
      "Share of clicks left after shaving obs with < 2000 impressions:  0.9708545125329959\n"
     ]
    }
   ],
   "source": [
    "folder = \"/data/raw/\" # change accordingly\n",
    "data = load_dataset(folder)\n",
    "\n",
    "data, opti, shadowpricelist = optimize_bids(data, n_partitions=40)"
   ]
  },
  {
   "cell_type": "markdown",
   "id": "afa1a7e5",
   "metadata": {},
   "source": [
    "#### Generate prediction metrics"
   ]
  },
  {
   "cell_type": "markdown",
   "id": "366a9875",
   "metadata": {},
   "source": [
    "Sanity check: How well does the algorithm predict the actual number of clicks based on the true bids?\n",
    "\n",
    "Also: How many more clicks does the optimized bid vector actually produce?"
   ]
  },
  {
   "cell_type": "code",
   "execution_count": 7,
   "id": "462ad1ab",
   "metadata": {},
   "outputs": [
    {
     "name": "stdout",
     "output_type": "stream",
     "text": [
      "Total clicks: 133509\n",
      "Predicted clicks based on true bids: 133473.89\n",
      "Prediction error: 0.03 %\n",
      "Predicted clicks based on optimal bids: 181045.82\n",
      "Predicted improvement from optimal bids: 35.64 %\n"
     ]
    }
   ],
   "source": [
    "predicted_impressions_opti = predict_gam_interpol(data[\"gam_interpol\"], data[\"bids_opti\"])\n",
    "predicted_clicks_opti = data[\"slope\"] @ predicted_impressions_opti\n",
    "predicted_impressions_real = predict_gam_interpol(data[\"gam_interpol\"], data[\"rpm\"])\n",
    "predicted_clicks_real = data[\"slope\"] @ predicted_impressions_real\n",
    "actual_clicks = data[\"clicks\"].sum()\n",
    "predicted_improvement = (predicted_clicks_opti / predicted_clicks_real - 1) * 100\n",
    "error_ratio = (actual_clicks / predicted_clicks_real - 1) * 100\n",
    "\n",
    "print(\"Total clicks:\", actual_clicks)\n",
    "print(\"Predicted clicks based on true bids:\", '{0:.2f}'.format(predicted_clicks_real))\n",
    "print(\"Prediction error:\", '{0:.2f}'.format(error_ratio), \"%\")\n",
    "print(\"Predicted clicks based on optimal bids:\", '{0:.2f}'.format(predicted_clicks_opti))\n",
    "print(\"Predicted improvement from optimal bids:\", '{0:.2f}'.format(predicted_improvement), \"%\")"
   ]
  },
  {
   "cell_type": "markdown",
   "id": "ac738dc2",
   "metadata": {},
   "source": [
    "Same questions, but this time for the testing set, i.e. the 1% of the dataset that we did not use to tune $f$ and $g$. These numbers are an indicator for out-of-sample performance. "
   ]
  },
  {
   "cell_type": "code",
   "execution_count": 8,
   "id": "511c24e7",
   "metadata": {},
   "outputs": [
    {
     "name": "stdout",
     "output_type": "stream",
     "text": [
      "Total clicks: 1370\n",
      "Predicted clicks based on true bids: 1362.24\n",
      "Prediction error: 0.57 %\n",
      "Predicted clicks based on optimal bids: 1822.93\n",
      "Predicted improvement from optimal bids: 33.82 %\n"
     ]
    }
   ],
   "source": [
    "data_test = data.loc[data[\"train\"] == 0]\n",
    "predicted_impressions_opti_test = predict_gam_interpol(data_test[\"gam_interpol\"], data_test[\"bids_opti\"])\n",
    "predicted_clicks_opti_test = data_test[\"slope\"] @ predicted_impressions_opti_test\n",
    "predicted_impressions_real_test = predict_gam_interpol(data_test[\"gam_interpol\"], data_test[\"rpm\"])\n",
    "predicted_clicks_real_test = data_test[\"slope\"] @ predicted_impressions_real_test\n",
    "actual_clicks_test = data_test[\"clicks\"].sum()\n",
    "predicted_improvement_test = (predicted_clicks_opti_test / predicted_clicks_real_test - 1) * 100\n",
    "error_ratio_test = (actual_clicks_test / predicted_clicks_real_test - 1) * 100\n",
    "\n",
    "print(\"Total clicks:\", actual_clicks_test)\n",
    "print(\"Predicted clicks based on true bids:\", '{0:.2f}'.format(predicted_clicks_real_test))\n",
    "print(\"Prediction error:\", '{0:.2f}'.format(error_ratio_test), \"%\")\n",
    "print(\"Predicted clicks based on optimal bids:\", '{0:.2f}'.format(predicted_clicks_opti_test))\n",
    "print(\"Predicted improvement from optimal bids:\", '{0:.2f}'.format(predicted_improvement_test), \"%\")"
   ]
  },
  {
   "cell_type": "markdown",
   "id": "a4e591ce",
   "metadata": {},
   "source": [
    "Produce a bid multiplier and relative change in bids. "
   ]
  },
  {
   "cell_type": "code",
   "execution_count": 10,
   "id": "b8c67cf3",
   "metadata": {},
   "outputs": [],
   "source": [
    "# \"multiplier\" indicates by how much we should multiply the original bids to get to the optimum.\n",
    "data[\"multiplier\"] = data[\"bids_opti\"] / data[\"rpm\"]\n",
    "# \"bid_dif\" denotes the difference between optimal and actual bids\n",
    "data[\"bid_dif\"] = data[\"bids_opti\"] - data[\"rpm\"]\n",
    "# \"bid_dif_rel\" denotes the relative difference in bids\n",
    "data[\"bid_dif_rel\"] = (data[\"bids_opti\"] - data[\"rpm\"]) / data[\"rpm\"]\n",
    "# \"bid_dif_rel\" denotes the relative difference in bids, in %\n",
    "data[\"bid_dif_rel100\"] = data[\"bid_dif_rel\"] * 100"
   ]
  },
  {
   "cell_type": "markdown",
   "id": "5b220fc6",
   "metadata": {},
   "source": [
    "#### Figures showing where to shift bids"
   ]
  },
  {
   "cell_type": "markdown",
   "id": "162ba008",
   "metadata": {},
   "source": [
    "Show distribution of recommended bid changes. "
   ]
  },
  {
   "cell_type": "code",
   "execution_count": 13,
   "id": "44dc967a",
   "metadata": {},
   "outputs": [
    {
     "data": {
      "image/png": "[encoded data removed]",
      "text/plain": [
       "<Figure size 432x288 with 1 Axes>"
      ]
     },
     "metadata": {
      "needs_background": "light"
     },
     "output_type": "display_data"
    }
   ],
   "source": [
    "p = sns.histplot(data.loc[data[\"bid_dif_rel100\"] < 200, \"bid_dif_rel100\"], bins = 20)\n",
    "p.set_xlabel(\"Recommended Change in Bids (%)\")\n",
    "plt.show()"
   ]
  },
  {
   "cell_type": "markdown",
   "id": "18f8ab4d",
   "metadata": {},
   "source": [
    "Next, we look at suggested changes in the bids by subgroup. Starting with subgroups by CTR. Here, CTR values are calculated for all the clusters used to identify $g$. CTR is then categorized into 4 bins by quartile. These quartiles roughly correspond to CTR < 0.034 (low), 0.034 < CTR < 0.081 (medium), 0.081 < CTR < 0.113 (high), and CTR > 0.113 (very high). \n",
    "\n",
    "If it seems strange that the suggested relative bid increase is higher for the \"high\" than the \"very high\" bin, remember that these are deviations from the existing bids. Apparently, the advertiser is already doing a good job bidding adequately on those very high CTR targets. "
   ]
  },
  {
   "cell_type": "code",
   "execution_count": 14,
   "id": "ff382db5",
   "metadata": {},
   "outputs": [
    {
     "data": {
      "image/png": "[encoded data removed]",
      "text/plain": [
       "<Figure size 432x288 with 1 Axes>"
      ]
     },
     "metadata": {
      "needs_background": "light"
     },
     "output_type": "display_data"
    }
   ],
   "source": [
    "data[[\"imp_g\", \"clicks_g\"]] = (data[[\"impressions\", \"clicks\"]]\n",
    "                            .groupby(data[\"id_g\"])\n",
    "                            .transform(np.sum)\n",
    "                            )\n",
    "data[\"ctr_g\"] = 100 * data[\"clicks_g\"] / data[\"imp_g\"]\n",
    "data[\"ctr_category\"] = 1\n",
    "data.loc[(data[\"ctr_g\"] > data[\"ctr_g\"].quantile(q=0.25)), \"ctr_category\"] = 2\n",
    "data.loc[data[\"ctr_g\"] > data[\"ctr_g\"].quantile(q=0.5), \"ctr_category\"] = 3\n",
    "data.loc[data[\"ctr_g\"] > data[\"ctr_g\"].quantile(q=0.75), \"ctr_category\"] = 4\n",
    "\n",
    "p = sns.barplot(x=\"ctr_category\", y=\"bid_dif_rel100\", data=data)\n",
    "p.set_xlabel(\"CTR bins\")\n",
    "p.set_ylabel(\"Recommended Change in Bids (%)\")\n",
    "p.set_xticklabels([\"Low\", \"Medium\", \"High\", \"Very high\"])\n",
    "plt.show()"
   ]
  },
  {
   "cell_type": "markdown",
   "id": "29436838",
   "metadata": {},
   "source": [
    "Looking at device type. Recommendation: bid more on tablet viewers, less on PC viewers. "
   ]
  },
  {
   "cell_type": "code",
   "execution_count": 15,
   "id": "9c4f3fc7",
   "metadata": {},
   "outputs": [
    {
     "data": {
      "image/png": "[encoded data removed]",
      "text/plain": [
       "<Figure size 432x288 with 1 Axes>"
      ]
     },
     "metadata": {
      "needs_background": "light"
     },
     "output_type": "display_data"
    }
   ],
   "source": [
    "p = sns.barplot(x=\"device_type\", y=\"bid_dif_rel100\", data=data)\n",
    "p.set_xlabel(\"Device Type\")\n",
    "p.set_ylabel(\"Recommended Change in Bids (%)\")\n",
    "plt.show()"
   ]
  },
  {
   "cell_type": "markdown",
   "id": "b076b9d9",
   "metadata": {},
   "source": [
    "Looking at retargeted vs. first time viewers. Recommendation: bid more on first time viewers. "
   ]
  },
  {
   "cell_type": "code",
   "execution_count": 16,
   "id": "b51bcbf1",
   "metadata": {},
   "outputs": [
    {
     "data": {
      "image/png": "[encoded data removed]",
      "text/plain": [
       "<Figure size 432x288 with 1 Axes>"
      ]
     },
     "metadata": {
      "needs_background": "light"
     },
     "output_type": "display_data"
    }
   ],
   "source": [
    "p = sns.barplot(x=\"RT\", y=\"bid_dif_rel100\", data=data)\n",
    "p.set_xlabel(\"Retargeting Status\")\n",
    "p.set_ylabel(\"Recommended Change in Bids (%)\")\n",
    "p.set_xticklabels([\"First time viewer\", \"Retargeted\"])\n",
    "plt.show()"
   ]
  },
  {
   "cell_type": "markdown",
   "id": "ba1803bd",
   "metadata": {},
   "source": [
    "Look at the hour of the day. Recommendation: bid less in the early morning (3:00-8:00) and more in \n",
    "the evening (18:00-24:00)."
   ]
  },
  {
   "cell_type": "code",
   "execution_count": 17,
   "id": "aeb6ef1a",
   "metadata": {},
   "outputs": [
    {
     "name": "stderr",
     "output_type": "stream",
     "text": [
      "/tmp/ipykernel_6933/3305199684.py:4: UserWarning: FixedFormatter should only be used together with FixedLocator\n",
      "  p.set_xticklabels(['0', '0:00', '5:00', '10:00', '15:00', '20:00'])\n"
     ]
    },
    {
     "data": {
      "image/png": "[encoded data removed]",
      "text/plain": [
       "<Figure size 432x288 with 1 Axes>"
      ]
     },
     "metadata": {
      "needs_background": "light"
     },
     "output_type": "display_data"
    }
   ],
   "source": [
    "p = sns.lineplot(data = data, x=\"hour_user_tz\", y=\"bid_dif_rel100\")\n",
    "p.set_xlabel(\"Hour of the Day\")\n",
    "p.set_ylabel(\"Recommended Change in Bids (%)\")\n",
    "p.set_xticklabels(['0', '0:00', '5:00', '10:00', '15:00', '20:00'])\n",
    "plt.show()"
   ]
  },
  {
   "cell_type": "markdown",
   "id": "99a70712",
   "metadata": {},
   "source": [
    "Look at the day of the week. "
   ]
  },
  {
   "cell_type": "code",
   "execution_count": 18,
   "id": "a7392142",
   "metadata": {},
   "outputs": [
    {
     "name": "stderr",
     "output_type": "stream",
     "text": [
      "/tmp/ipykernel_6933/785006375.py:4: UserWarning: FixedFormatter should only be used together with FixedLocator\n",
      "  p.set_xticklabels(['bla', 'Sun', 'Mon', 'Tue', 'Wed', 'Thu', 'Fri', 'Sat'])\n"
     ]
    },
    {
     "data": {
      "image/png": "[encoded data removed]",
      "text/plain": [
       "<Figure size 432x288 with 1 Axes>"
      ]
     },
     "metadata": {
      "needs_background": "light"
     },
     "output_type": "display_data"
    }
   ],
   "source": [
    "p = sns.lineplot(data = data, x=\"weekday_user_tz\", y=\"bid_dif_rel100\")\n",
    "p.set_xlabel(\"Day of the Week\")\n",
    "p.set_ylabel(\"Recommended Change in Bids (%)\")\n",
    "p.set_xticklabels(['bla', 'Sun', 'Mon', 'Tue', 'Wed', 'Thu', 'Fri', 'Sat'])\n",
    "plt.show()"
   ]
  }
 ],
 "metadata": {
  "kernelspec": {
   "display_name": "Python 3 (ipykernel)",
   "language": "python",
   "name": "python3"
  },
  "language_info": {
   "codemirror_mode": {
    "name": "ipython",
    "version": 3
   },
   "file_extension": ".py",
   "mimetype": "text/x-python",
   "name": "python",
   "nbconvert_exporter": "python",
   "pygments_lexer": "ipython3",
   "version": "3.9.7"
  }
 },
 "nbformat": 4,
 "nbformat_minor": 5
}
